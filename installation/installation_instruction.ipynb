{
 "cells": [
  {
   "cell_type": "markdown",
   "metadata": {},
   "source": [
    "# Installation instruction"
   ]
  },
  {
   "cell_type": "markdown",
   "metadata": {},
   "source": [
    "This notebook is the set up instruction for:\n",
    "    - Redis cluster on Google Cloud Platform (GCP)\n",
    "    - Opensim environment on cluster"
   ]
  },
  {
   "cell_type": "markdown",
   "metadata": {},
   "source": [
    "## Cluster on GCP"
   ]
  },
  {
   "cell_type": "markdown",
   "metadata": {},
   "source": [
    "Setup GCP account.  \n",
    "Install ray on local machine [here](https://ray.readthedocs.io/en/latest/installation.html).  \n",
    "Redirect to `/robustprothestics/installation/`, here `cluster.yaml` contains necessary info of cluster.  \n",
    "Execute: `ray up cluster.yaml`.  \n",
    "Open a screen on the cluster: `ray attach cluster.yaml`.  \n",
    "\n",
    "For more commands, check this [reference](https://ray.readthedocs.io/en/latest/autoscaling.html)."
   ]
  },
  {
   "cell_type": "markdown",
   "metadata": {},
   "source": [
    "## opensim-rl on GCP"
   ]
  },
  {
   "cell_type": "markdown",
   "metadata": {},
   "source": [
    "Because the cluster is up and running with `python-3.6.3` and `ray-0.7.0.dev2`, so we set up the virtual environment with the same setting. (I dont know how to set default python version in cluster configuration file cluster `cluster.yaml`)  \n",
    "\n",
    "[opensim-rl references](http://osim-rl.stanford.edu/docs/quickstart/)  \n",
    "Set up opensim-rl env  \n",
    "`conda create -n opensim-rl -c kidzik opensim python=3.6.3`  \n",
    "`source activate opensim-rl`\n",
    "Set up python reinforcement learning environment\n",
    "`conda install -c conda-forge lapack git`\n",
    "`pip install git+https://github.com/stanfordnmbl/osim-rl.git`  \n",
    "Set up `ray-0.7.0.dev2` in opensim-rl env  \n",
    "`pip install -U https://s3-us-west-2.amazonaws.com/ray-wheels/latest/ray-0.7.0.dev2-cp36-cp36m-manylinux1_x86_64.whl`"
   ]
  },
  {
   "cell_type": "markdown",
   "metadata": {},
   "source": [
    "## Start with Jupyter"
   ]
  },
  {
   "cell_type": "markdown",
   "metadata": {},
   "source": [
    "Execute this to open port 8899 from local machine to port 8899 on head of Redis cluster:  \n",
    "`ray exec cluster.yaml --port-forward=8899 'source ~/anaconda3/bin/activate opensim-rl && jupyter notebook --port=8899'`\n"
   ]
  },
  {
   "cell_type": "markdown",
   "metadata": {},
   "source": [
    "## Test"
   ]
  },
  {
   "cell_type": "code",
   "execution_count": 7,
   "metadata": {},
   "outputs": [
    {
     "data": {
      "text/plain": [
       "{'node_ip_address': '10.138.0.5',\n",
       " 'redis_address': '10.138.0.5:6379',\n",
       " 'object_store_address': '/tmp/ray/session_2019-03-30_20-48-49_3342/sockets/plasma_store',\n",
       " 'raylet_socket_name': '/tmp/ray/session_2019-03-30_20-48-49_3342/sockets/raylet',\n",
       " 'webui_url': None}"
      ]
     },
     "execution_count": 7,
     "metadata": {},
     "output_type": "execute_result"
    }
   ],
   "source": [
    "# start ray\n",
    "import ray\n",
    "ray.init(redis_address=\"localhost:6379\")\n",
    "# if it is working, the result is like this:\n",
    "#{'node_ip_address': '10.138.0.5',\n",
    "# 'redis_address': '10.138.0.5:6379',\n",
    "# 'object_store_address': '/tmp/ray/session_2019-03-30_20-48-49_3342/sockets/plasma_store',\n",
    "# 'raylet_socket_name': '/tmp/ray/session_2019-03-30_20-48-49_3342/sockets/raylet',\n",
    "# 'webui_url': None}"
   ]
  },
  {
   "cell_type": "code",
   "execution_count": 10,
   "metadata": {},
   "outputs": [
    {
     "name": "stdout",
     "output_type": "stream",
     "text": [
      "0.0008936200634609398\n",
      "0.003025800913931018\n",
      "0.003903025204130662\n"
     ]
    }
   ],
   "source": [
    "#start opensim-rl\n",
    "from osim.env import L2RunEnv\n",
    "\n",
    "env = L2RunEnv(visualize=False)\n",
    "observation = env.reset()\n",
    "for i in range(3):\n",
    "    observation, reward, done, info = env.step(env.action_space.sample())\n",
    "    print(reward)"
   ]
  },
  {
   "cell_type": "code",
   "execution_count": 12,
   "metadata": {},
   "outputs": [],
   "source": [
    "ray.shutdown() #need to ray.shutdown() after finish"
   ]
  },
  {
   "cell_type": "code",
   "execution_count": null,
   "metadata": {},
   "outputs": [],
   "source": []
  }
 ],
 "metadata": {
  "kernelspec": {
   "display_name": "Python 3",
   "language": "python",
   "name": "python3"
  },
  "language_info": {
   "codemirror_mode": {
    "name": "ipython",
    "version": 3
   },
   "file_extension": ".py",
   "mimetype": "text/x-python",
   "name": "python",
   "nbconvert_exporter": "python",
   "pygments_lexer": "ipython3",
   "version": "3.6.3"
  }
 },
 "nbformat": 4,
 "nbformat_minor": 2
}
